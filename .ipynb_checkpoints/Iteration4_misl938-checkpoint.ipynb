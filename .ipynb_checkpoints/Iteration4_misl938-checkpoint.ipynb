{
 "cells": [
  {
   "cell_type": "code",
   "execution_count": 1,
   "metadata": {},
   "outputs": [],
   "source": [
    "# Basic settings for pyspark.\n",
    "import findspark\n",
    "findspark.init('/home/ubuntu/spark-2.1.1-bin-hadoop2.7')\n",
    "import pyspark\n",
    "from pyspark.sql import SparkSession\n",
    "spark = SparkSession.builder.appName('Iteration4_misl938').getOrCreate()"
   ]
  },
  {
   "cell_type": "code",
   "execution_count": 126,
   "metadata": {},
   "outputs": [],
   "source": [
    "# Let's read in the data.\n",
    "#housing_data = spark.read.csv('Datasets/Melbourne_housing.csv', inferSchema= True, header = True)\n",
    "housing_data = spark.read.csv('Datasets/Melbourne_housing.csv', header = True)"
   ]
  },
  {
   "cell_type": "code",
   "execution_count": 65,
   "metadata": {},
   "outputs": [
    {
     "name": "stdout",
     "output_type": "stream",
     "text": [
      "+----------+-------------------+-----+----+-------+------+-------+---------+--------+--------+--------+--------+----+--------+------------+---------+------------------+---------+----------+--------------------+-------------+\n",
      "|    Suburb|            Address|Rooms|Type|  Price|Method|SellerG|     Date|Distance|Postcode|Bedroom2|Bathroom| Car|Landsize|BuildingArea|YearBuilt|       CouncilArea|Lattitude|Longtitude|          Regionname|Propertycount|\n",
      "+----------+-------------------+-----+----+-------+------+-------+---------+--------+--------+--------+--------+----+--------+------------+---------+------------------+---------+----------+--------------------+-------------+\n",
      "|Abbotsford|      68 Studley St|    2|   h|   null|    SS| Jellis|3/09/2016|     2.5|    3067|       2|       1|   1|     126|        null|     null|Yarra City Council| -37.8014|  144.9958|Northern Metropol...|         4019|\n",
      "|Abbotsford|       85 Turner St|    2|   h|1480000|     S| Biggin|3/12/2016|     2.5|    3067|       2|       1|   1|     202|        null|     null|Yarra City Council| -37.7996|  144.9984|Northern Metropol...|         4019|\n",
      "|Abbotsford|    25 Bloomburg St|    2|   h|1035000|     S| Biggin|4/02/2016|     2.5|    3067|       2|       1|   0|     156|        79.0|     1900|Yarra City Council| -37.8079|  144.9934|Northern Metropol...|         4019|\n",
      "|Abbotsford| 18/659 Victoria St|    3|   u|   null|    VB| Rounds|4/02/2016|     2.5|    3067|       3|       2|   1|       0|        null|     null|Yarra City Council| -37.8114|  145.0116|Northern Metropol...|         4019|\n",
      "|Abbotsford|       5 Charles St|    3|   h|1465000|    SP| Biggin|4/03/2017|     2.5|    3067|       3|       2|   0|     134|       150.0|     1900|Yarra City Council| -37.8093|  144.9944|Northern Metropol...|         4019|\n",
      "|Abbotsford|   40 Federation La|    3|   h| 850000|    PI| Biggin|4/03/2017|     2.5|    3067|       3|       2|   1|      94|        null|     null|Yarra City Council| -37.7969|  144.9969|Northern Metropol...|         4019|\n",
      "|Abbotsford|        55a Park St|    4|   h|1600000|    VB| Nelson|4/06/2016|     2.5|    3067|       3|       1|   2|     120|       142.0|     2014|Yarra City Council| -37.8072|  144.9941|Northern Metropol...|         4019|\n",
      "|Abbotsford|       16 Maugie St|    4|   h|   null|    SN| Nelson|6/08/2016|     2.5|    3067|       3|       2|   2|     400|       220.0|     2006|Yarra City Council| -37.7965|  144.9965|Northern Metropol...|         4019|\n",
      "|Abbotsford|       53 Turner St|    2|   h|   null|     S| Biggin|6/08/2016|     2.5|    3067|       4|       1|   2|     201|        null|     1900|Yarra City Council| -37.7995|  144.9974|Northern Metropol...|         4019|\n",
      "|Abbotsford|       99 Turner St|    2|   h|   null|     S|Collins|6/08/2016|     2.5|    3067|       3|       2|   1|     202|        null|     1900|Yarra City Council| -37.7996|  144.9989|Northern Metropol...|         4019|\n",
      "|Abbotsford|     129 Charles St|    2|   h| 941000|     S| Jellis|7/05/2016|     2.5|    3067|       2|       1|   0|     181|        null|     null|Yarra City Council| -37.8041|  144.9953|Northern Metropol...|         4019|\n",
      "|Abbotsford|       124 Yarra St|    3|   h|1876000|     S| Nelson|7/05/2016|     2.5|    3067|       4|       2|   0|     245|       210.0|     1910|Yarra City Council| -37.8024|  144.9993|Northern Metropol...|         4019|\n",
      "|Abbotsford|121/56 Nicholson St|    2|   u|   null|    PI| Biggin|7/11/2016|     2.5|    3067|       2|       2|   1|    4292|        82.0|     2009|Yarra City Council| -37.8078|  144.9965|Northern Metropol...|         4019|\n",
      "|Abbotsford|      17 Raphael St|    4|   h|   null|     W| Biggin|7/11/2016|     2.5|    3067|       6|       2|   0|     230|       147.0|     1860|Yarra City Council| -37.8066|  144.9936|Northern Metropol...|         4019|\n",
      "|Abbotsford|      98 Charles St|    2|   h|1636000|     S| Nelson|8/10/2016|     2.5|    3067|       2|       1|   2|     256|       107.0|     1890|Yarra City Council|  -37.806|  144.9954|Northern Metropol...|         4019|\n",
      "|Abbotsford|   217 Langridge St|    3|   h|1000000|     S| Jellis|8/10/2016|     2.5|    3067|    null|    null|null|    null|        null|     null|Yarra City Council|     null|      null|Northern Metropol...|         4019|\n",
      "|Abbotsford|    18a Mollison St|    2|   t| 745000|     S| Jellis|8/10/2016|     2.5|    3067|    null|    null|null|    null|        null|     null|Yarra City Council|     null|      null|Northern Metropol...|         4019|\n",
      "|Abbotsford| 6/241 Nicholson St|    1|   u| 300000|     S| Biggin|8/10/2016|     2.5|    3067|       1|       1|   1|       0|        null|     null|Yarra City Council| -37.8008|  144.9973|Northern Metropol...|         4019|\n",
      "|Abbotsford|      10 Valiant St|    2|   h|1097000|     S| Biggin|8/10/2016|     2.5|    3067|       3|       1|   2|     220|        75.0|     1900|Yarra City Council|  -37.801|  144.9989|Northern Metropol...|         4019|\n",
      "|Abbotsford|403/609 Victoria St|    2|   u| 542000|     S| Dingle|8/10/2016|     2.5|    3067|    null|    null|null|    null|        null|     null|Yarra City Council|     null|      null|Northern Metropol...|         4019|\n",
      "+----------+-------------------+-----+----+-------+------+-------+---------+--------+--------+--------+--------+----+--------+------------+---------+------------------+---------+----------+--------------------+-------------+\n",
      "only showing top 20 rows\n",
      "\n"
     ]
    }
   ],
   "source": [
    "# The show method allows us to visualise DataFrames.\n",
    "housing_data.show()\n"
   ]
  },
  {
   "cell_type": "code",
   "execution_count": 66,
   "metadata": {},
   "outputs": [
    {
     "data": {
      "text/plain": [
       "['Suburb',\n",
       " 'Address',\n",
       " 'Rooms',\n",
       " 'Type',\n",
       " 'Price',\n",
       " 'Method',\n",
       " 'SellerG',\n",
       " 'Date',\n",
       " 'Distance',\n",
       " 'Postcode',\n",
       " 'Bedroom2',\n",
       " 'Bathroom',\n",
       " 'Car',\n",
       " 'Landsize',\n",
       " 'BuildingArea',\n",
       " 'YearBuilt',\n",
       " 'CouncilArea',\n",
       " 'Lattitude',\n",
       " 'Longtitude',\n",
       " 'Regionname',\n",
       " 'Propertycount']"
      ]
     },
     "execution_count": 66,
     "metadata": {},
     "output_type": "execute_result"
    }
   ],
   "source": [
    "# Let's have a look at the column names. \n",
    "housing_data.columns\n"
   ]
  },
  {
   "cell_type": "code",
   "execution_count": 67,
   "metadata": {},
   "outputs": [
    {
     "data": {
      "text/plain": [
       "34857"
      ]
     },
     "execution_count": 67,
     "metadata": {},
     "output_type": "execute_result"
    }
   ],
   "source": [
    "# number of rows/entry in the dataset\n",
    "housing_data.count()"
   ]
  },
  {
   "cell_type": "code",
   "execution_count": 68,
   "metadata": {},
   "outputs": [
    {
     "name": "stdout",
     "output_type": "stream",
     "text": [
      "+-------+----------+----------------+------------------+-----+-----------------+------+-----------+---------+------------------+-----------------+------------------+------------------+------------------+------------------+------------------+------------------+--------------------+-------------------+-------------------+--------------------+------------------+\n",
      "|summary|    Suburb|         Address|             Rooms| Type|            Price|Method|    SellerG|     Date|          Distance|         Postcode|          Bedroom2|          Bathroom|               Car|          Landsize|      BuildingArea|         YearBuilt|         CouncilArea|          Lattitude|         Longtitude|          Regionname|     Propertycount|\n",
      "+-------+----------+----------------+------------------+-----+-----------------+------+-----------+---------+------------------+-----------------+------------------+------------------+------------------+------------------+------------------+------------------+--------------------+-------------------+-------------------+--------------------+------------------+\n",
      "|  count|     34857|           34857|             34857|34857|            27247| 34857|      34857|    34857|             34856|            34856|             26640|             26631|             26129|             23047|             13742|             15551|               34854|              26881|              26881|               34854|             34854|\n",
      "|   mean|      null|            null|3.0310124221820582| null|1050173.344955408|  null|       null|     null|11.184929423916575|3116.062858618315|3.0846471471471473| 1.624798167549097|1.7288453442535114|  593.598993361392| 160.2564003565711| 1965.289884894862|                null|-37.810634295599094| 145.00185113165475|                null|7572.8883055029555|\n",
      "| stddev|      null|            null|0.9699329348975181| null|641467.1301046003|  null|       null|     null| 6.788892455935919|109.0239027429064|0.9806897285461588|0.7242120114699053|1.0107707853554255|3398.8419464599056|401.26706008485513|37.328178023136594|                null|0.09027890450922157|0.12016876915353364|                null| 4428.090313274634|\n",
      "|    min|Abbotsford|1 Abercrombie St|                 1|    h|            85000|    PI|    @Realty|1/07/2017|               0.0|             3000|                 0|                 0|                 0|                 0|               0.0|              1196|Banyule City Council|          -38.19043|          144.42379|Eastern Metropolitan|                83|\n",
      "|    max|  viewbank|   9b Stewart St|                16|    u|         11200000|     W|voglwalpole|9/12/2017|              48.1|             3978|                30|                12|                26|            433014|           44515.0|              2106|Yarra Ranges Shir...|           -37.3902|          145.52635|    Western Victoria|             21650|\n",
      "+-------+----------+----------------+------------------+-----+-----------------+------+-----------+---------+------------------+-----------------+------------------+------------------+------------------+------------------+------------------+------------------+--------------------+-------------------+-------------------+--------------------+------------------+\n",
      "\n"
     ]
    }
   ],
   "source": [
    "# We can use the describe method to get some general statistics on our data. \n",
    "df.describe().show()"
   ]
  },
  {
   "cell_type": "code",
   "execution_count": 97,
   "metadata": {},
   "outputs": [
    {
     "name": "stdout",
     "output_type": "stream",
     "text": [
      "root\n",
      " |-- Suburb: string (nullable = true)\n",
      " |-- Address: string (nullable = true)\n",
      " |-- Rooms: string (nullable = true)\n",
      " |-- Type: string (nullable = true)\n",
      " |-- Price: string (nullable = true)\n",
      " |-- Method: string (nullable = true)\n",
      " |-- SellerG: string (nullable = true)\n",
      " |-- Date: string (nullable = true)\n",
      " |-- Distance: string (nullable = true)\n",
      " |-- Postcode: string (nullable = true)\n",
      " |-- Bedroom2: string (nullable = true)\n",
      " |-- Bathroom: string (nullable = true)\n",
      " |-- Car: string (nullable = true)\n",
      " |-- Landsize: string (nullable = true)\n",
      " |-- BuildingArea: string (nullable = true)\n",
      " |-- YearBuilt: string (nullable = true)\n",
      " |-- CouncilArea: string (nullable = true)\n",
      " |-- Lattitude: string (nullable = true)\n",
      " |-- Longtitude: string (nullable = true)\n",
      " |-- Regionname: string (nullable = true)\n",
      " |-- Propertycount: string (nullable = true)\n",
      "\n"
     ]
    }
   ],
   "source": [
    "# For type, we can use print schema. \n",
    "housing_data.printSchema()\n"
   ]
  },
  {
   "cell_type": "code",
   "execution_count": 118,
   "metadata": {},
   "outputs": [],
   "source": [
    "# Let's import in the relevant types.\n",
    "#from pyspark.sql.types import (StructField,StringType,IntegerType,DateType,ShortType,DoubleType,StructType)"
   ]
  },
  {
   "cell_type": "code",
   "execution_count": 122,
   "metadata": {},
   "outputs": [
    {
     "data": {
      "text/plain": [
       "\"\\ndata_schema = [StructField('Suburb',StringType(),True),\\n               StructField('Address',StringType(),True),\\n               StructField('Rooms',IntegerType(),True),\\n               StructField('Type',StringType(),True),\\n               StructField('Price',IntegerType(),True),\\n               StructField('Method',StringType(),True),\\n               StructField('SellerG',StringType(),True),\\n               StructField('Date',DateType(),True),\\n               StructField('Distance',DoubleType(),True),\\n               StructField('Postcode',IntegerType(),True),\\n               StructField('Bedroom2',IntegerType(),True),            \\n               StructField('Bathroom',IntegerType(),True),\\n               StructField('Car',IntegerType(),True),\\n               StructField('Landsize',IntegerType(),True),\\n               StructField('BuildingArea',DoubleType(),True),\\n               StructField('YearBuilt',IntegerType(),True),\\n               StructField('CouncilArea',StringType(),True),\\n               StructField('Lattitude',DoubleType(),True),\\n               StructField('Longtitude',DoubleType(),True),      \\n               StructField('Regionname',StringType(),True),\\n               StructField('Propertycount',IntegerType(),True)]\\n\\nfinal_struct = StructType(fields=data_schema)\\n\""
      ]
     },
     "execution_count": 122,
     "metadata": {},
     "output_type": "execute_result"
    }
   ],
   "source": [
    "# Then create a variable with the correct structure.\n",
    "'''\n",
    "data_schema = [StructField('Suburb',StringType(),True),\n",
    "               StructField('Address',StringType(),True),\n",
    "               StructField('Rooms',IntegerType(),True),\n",
    "               StructField('Type',StringType(),True),\n",
    "               StructField('Price',IntegerType(),True),\n",
    "               StructField('Method',StringType(),True),\n",
    "               StructField('SellerG',StringType(),True),\n",
    "               StructField('Date',DateType(),True),\n",
    "               StructField('Distance',DoubleType(),True),\n",
    "               StructField('Postcode',IntegerType(),True),\n",
    "               StructField('Bedroom2',IntegerType(),True),            \n",
    "               StructField('Bathroom',IntegerType(),True),\n",
    "               StructField('Car',IntegerType(),True),\n",
    "               StructField('Landsize',IntegerType(),True),\n",
    "               StructField('BuildingArea',DoubleType(),True),\n",
    "               StructField('YearBuilt',IntegerType(),True),\n",
    "               StructField('CouncilArea',StringType(),True),\n",
    "               StructField('Lattitude',DoubleType(),True),\n",
    "               StructField('Longtitude',DoubleType(),True),      \n",
    "               StructField('Regionname',StringType(),True),\n",
    "               StructField('Propertycount',IntegerType(),True)]\n",
    "\n",
    "final_struct = StructType(fields=data_schema)\n",
    "'''"
   ]
  },
  {
   "cell_type": "code",
   "execution_count": 125,
   "metadata": {},
   "outputs": [
    {
     "ename": "SyntaxError",
     "evalue": "EOF while scanning triple-quoted string literal (<ipython-input-125-59fb0bf446b6>, line 6)",
     "output_type": "error",
     "traceback": [
      "\u001b[0;36m  File \u001b[0;32m\"<ipython-input-125-59fb0bf446b6>\"\u001b[0;36m, line \u001b[0;32m6\u001b[0m\n\u001b[0;31m    '''\u001b[0m\n\u001b[0m       ^\u001b[0m\n\u001b[0;31mSyntaxError\u001b[0m\u001b[0;31m:\u001b[0m EOF while scanning triple-quoted string literal\n"
     ]
    }
   ],
   "source": [
    "# And now we can read in the data using that schema. If we print the schema, we can see that age is now an integer. \n",
    "'''\n",
    "housing_data = spark.read.csv('Datasets/Melbourne_housing.csv', schema=final_struct, header = True)\n",
    "\n",
    "housing_data.printSchema()\n",
    "'''"
   ]
  },
  {
   "cell_type": "code",
   "execution_count": 106,
   "metadata": {},
   "outputs": [
    {
     "name": "stdout",
     "output_type": "stream",
     "text": [
      "+-----+--------+---------+----+----+------------+--------+--------+--------+-------+\n",
      "|Rooms|Bedroom2|YearBuilt| Car|Type|BuildingArea|Distance|Landsize|Bathroom|  Price|\n",
      "+-----+--------+---------+----+----+------------+--------+--------+--------+-------+\n",
      "|    2|       2|     null|   1|   h|        null|     2.5|     126|       1|   null|\n",
      "|    2|       2|     null|   1|   h|        null|     2.5|     202|       1|1480000|\n",
      "|    2|       2|     1900|   0|   h|        79.0|     2.5|     156|       1|1035000|\n",
      "|    3|       3|     null|   1|   u|        null|     2.5|       0|       2|   null|\n",
      "|    3|       3|     1900|   0|   h|       150.0|     2.5|     134|       2|1465000|\n",
      "|    3|       3|     null|   1|   h|        null|     2.5|      94|       2| 850000|\n",
      "|    4|       3|     2014|   2|   h|       142.0|     2.5|     120|       1|1600000|\n",
      "|    4|       3|     2006|   2|   h|       220.0|     2.5|     400|       2|   null|\n",
      "|    2|       4|     1900|   2|   h|        null|     2.5|     201|       1|   null|\n",
      "|    2|       3|     1900|   1|   h|        null|     2.5|     202|       2|   null|\n",
      "|    2|       2|     null|   0|   h|        null|     2.5|     181|       1| 941000|\n",
      "|    3|       4|     1910|   0|   h|       210.0|     2.5|     245|       2|1876000|\n",
      "|    2|       2|     2009|   1|   u|        82.0|     2.5|    4292|       2|   null|\n",
      "|    4|       6|     1860|   0|   h|       147.0|     2.5|     230|       2|   null|\n",
      "|    2|       2|     1890|   2|   h|       107.0|     2.5|     256|       1|1636000|\n",
      "|    3|    null|     null|null|   h|        null|     2.5|    null|    null|1000000|\n",
      "|    2|    null|     null|null|   t|        null|     2.5|    null|    null| 745000|\n",
      "|    1|       1|     null|   1|   u|        null|     2.5|       0|       1| 300000|\n",
      "|    2|       3|     1900|   2|   h|        75.0|     2.5|     220|       1|1097000|\n",
      "|    2|    null|     null|null|   u|        null|     2.5|    null|    null| 542000|\n",
      "+-----+--------+---------+----+----+------------+--------+--------+--------+-------+\n",
      "only showing top 20 rows\n",
      "\n"
     ]
    }
   ],
   "source": [
    "# to view the selected column(s)\n",
    "housing_data.select('Rooms','Bedroom2','YearBuilt','Car','Type','BuildingArea','Distance','Landsize','Bathroom','Price').show()"
   ]
  },
  {
   "cell_type": "code",
   "execution_count": 132,
   "metadata": {},
   "outputs": [
    {
     "name": "stdout",
     "output_type": "stream",
     "text": [
      "+-------+------------------+------------------+------------------+------------------+------------------+-----------------+\n",
      "|summary|             Rooms|         YearBuilt|      BuildingArea|          Distance|          Landsize|            Price|\n",
      "+-------+------------------+------------------+------------------+------------------+------------------+-----------------+\n",
      "|  count|             34857|             15551|             13742|             34856|             23047|            27247|\n",
      "|   mean|3.0310124221820582| 1965.289884894862| 160.2564003565711|11.184929423916575|  593.598993361392|1050173.344955408|\n",
      "| stddev|0.9699329348975181|37.328178023136594|401.26706008485513| 6.788892455935919|3398.8419464599056|641467.1301046003|\n",
      "|    min|                 1|              1196|                 0|                 0|                 0|          1000000|\n",
      "|    max|                 9|              2106|               999|               9.9|               999|           999999|\n",
      "+-------+------------------+------------------+------------------+------------------+------------------+-----------------+\n",
      "\n"
     ]
    }
   ],
   "source": [
    "# to view statistical information of the selected column(s)\n",
    "housing_data.describe('Rooms','YearBuilt','BuildingArea','Distance','Landsize','Price').show()"
   ]
  },
  {
   "cell_type": "code",
   "execution_count": 116,
   "metadata": {},
   "outputs": [
    {
     "data": {
      "text/plain": [
       "76"
      ]
     },
     "execution_count": 116,
     "metadata": {},
     "output_type": "execute_result"
    }
   ],
   "source": [
    "# entries with 0 building area\n",
    "housing_data.filter(housing_data.BuildingArea=='0').count()"
   ]
  },
  {
   "cell_type": "code",
   "execution_count": 130,
   "metadata": {},
   "outputs": [
    {
     "data": {
      "text/plain": [
       "4"
      ]
     },
     "execution_count": 130,
     "metadata": {},
     "output_type": "execute_result"
    }
   ],
   "source": [
    "# number houses was built before 1835\n",
    "housing_data.filter(housing_data.YearBuilt < '1835' ).count()\n"
   ]
  },
  {
   "cell_type": "code",
   "execution_count": 131,
   "metadata": {},
   "outputs": [
    {
     "name": "stdout",
     "output_type": "stream",
     "text": [
      "+---------------+--------------+-----+----+-------+------+-------+----------+--------+--------+--------+--------+----+--------+------------+---------+--------------------+---------+----------+--------------------+-------------+\n",
      "|         Suburb|       Address|Rooms|Type|  Price|Method|SellerG|      Date|Distance|Postcode|Bedroom2|Bathroom| Car|Landsize|BuildingArea|YearBuilt|         CouncilArea|Lattitude|Longtitude|          Regionname|Propertycount|\n",
      "+---------------+--------------+-----+----+-------+------+-------+----------+--------+--------+--------+--------+----+--------+------------+---------+--------------------+---------+----------+--------------------+-------------+\n",
      "|    Collingwood|2/79 Oxford St|    2|   u| 855000|     S| Nelson| 3/09/2016|     1.6|    3066|       2|       1|   1|    2886|         122|     1830|  Yarra City Council| -37.8042|  144.9845|Northern Metropol...|         4553|\n",
      "|South Melbourne|   403 Park St|    3|   h|   null|    SP| Cayzer|20/05/2017|     2.1|    3205|       3|       2|   0|     104|         125|     1800|Port Phillip City...|  -37.838|  144.9525|Southern Metropol...|         5943|\n",
      "| Mount Waverley|5 Armstrong St|    3|   h|1200000|    VB|McGrath|24/06/2017|    14.2|    3149|       3|       1|   4|     807|         117|     1196| Monash City Council|-37.86788| 145.12121|Eastern Metropolitan|        13366|\n",
      "|  Carlton North| 146 Pigdon St|    2|   u| 720000|     S| Jellis|28/10/2017|     3.5|    3054|       2|       1|null|    null|          64|     1820|Melbourne City Co...|-37.78188| 144.97227|Northern Metropol...|         3106|\n",
      "+---------------+--------------+-----+----+-------+------+-------+----------+--------+--------+--------+--------+----+--------+------------+---------+--------------------+---------+----------+--------------------+-------------+\n",
      "\n"
     ]
    }
   ],
   "source": [
    "#houses was built before 1835\n",
    "housing_data.filter(housing_data.YearBuilt < '1835' ).show()"
   ]
  },
  {
   "cell_type": "code",
   "execution_count": 133,
   "metadata": {},
   "outputs": [
    {
     "data": {
      "text/plain": [
       "2"
      ]
     },
     "execution_count": 133,
     "metadata": {},
     "output_type": "execute_result"
    }
   ],
   "source": [
    "# number houses was built after 2018\n",
    "housing_data.filter(housing_data.YearBuilt > '2018' ).count()"
   ]
  },
  {
   "cell_type": "code",
   "execution_count": 134,
   "metadata": {},
   "outputs": [
    {
     "name": "stdout",
     "output_type": "stream",
     "text": [
      "+---------+------------+-----+----+-------+------+--------+----------+--------+--------+--------+--------+---+--------+------------+---------+--------------------+---------+----------+--------------------+-------------+\n",
      "|   Suburb|     Address|Rooms|Type|  Price|Method| SellerG|      Date|Distance|Postcode|Bedroom2|Bathroom|Car|Landsize|BuildingArea|YearBuilt|         CouncilArea|Lattitude|Longtitude|          Regionname|Propertycount|\n",
      "+---------+------------+-----+----+-------+------+--------+----------+--------+--------+--------+--------+---+--------+------------+---------+--------------------+---------+----------+--------------------+-------------+\n",
      "|  Bulleen|3 Maringa St|    4|   h|   null|    SP|     Ray| 7/11/2016|    11.8|    3105|       4|       2|  2|     729|         255|     2106|Manningham City C...| -37.7637|  145.0881|Eastern Metropolitan|         4480|\n",
      "|Bentleigh|  1 Wyuna Ct|    3|   h|1100000|    VB|Woodards|17/03/2018|    11.4|    3204|       3|       1|  4|     635|         242|     2019|Glen Eira City Co...|-37.92963| 145.03666|Southern Metropol...|         6795|\n",
      "+---------+------------+-----+----+-------+------+--------+----------+--------+--------+--------+--------+---+--------+------------+---------+--------------------+---------+----------+--------------------+-------------+\n",
      "\n"
     ]
    }
   ],
   "source": [
    "# houses was built after 2018\n",
    "housing_data.filter(housing_data.YearBuilt > '2018' ).show()"
   ]
  },
  {
   "cell_type": "code",
   "execution_count": null,
   "metadata": {},
   "outputs": [],
   "source": []
  }
 ],
 "metadata": {
  "kernelspec": {
   "display_name": "Python 3",
   "language": "python",
   "name": "python3"
  },
  "language_info": {
   "codemirror_mode": {
    "name": "ipython",
    "version": 3
   },
   "file_extension": ".py",
   "mimetype": "text/x-python",
   "name": "python",
   "nbconvert_exporter": "python",
   "pygments_lexer": "ipython3",
   "version": "3.5.2"
  }
 },
 "nbformat": 4,
 "nbformat_minor": 2
}
